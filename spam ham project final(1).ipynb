{
 "cells": [
  {
   "cell_type": "code",
   "execution_count": 16,
   "metadata": {},
   "outputs": [
    {
     "data": {
      "text/html": [
       "<div>\n",
       "<style scoped>\n",
       "    .dataframe tbody tr th:only-of-type {\n",
       "        vertical-align: middle;\n",
       "    }\n",
       "\n",
       "    .dataframe tbody tr th {\n",
       "        vertical-align: top;\n",
       "    }\n",
       "\n",
       "    .dataframe thead th {\n",
       "        text-align: right;\n",
       "    }\n",
       "</style>\n",
       "<table border=\"1\" class=\"dataframe\">\n",
       "  <thead>\n",
       "    <tr style=\"text-align: right;\">\n",
       "      <th></th>\n",
       "      <th>status</th>\n",
       "      <th>message</th>\n",
       "    </tr>\n",
       "  </thead>\n",
       "  <tbody>\n",
       "    <tr>\n",
       "      <th>0</th>\n",
       "      <td>0</td>\n",
       "      <td>Go until jurong point, crazy.. Available only ...</td>\n",
       "    </tr>\n",
       "    <tr>\n",
       "      <th>1</th>\n",
       "      <td>0</td>\n",
       "      <td>Ok lar... Joking wif u oni...</td>\n",
       "    </tr>\n",
       "    <tr>\n",
       "      <th>2</th>\n",
       "      <td>1</td>\n",
       "      <td>Free entry in 2 a wkly comp to win FA Cup fina...</td>\n",
       "    </tr>\n",
       "    <tr>\n",
       "      <th>3</th>\n",
       "      <td>0</td>\n",
       "      <td>U dun say so early hor... U c already then say...</td>\n",
       "    </tr>\n",
       "    <tr>\n",
       "      <th>4</th>\n",
       "      <td>0</td>\n",
       "      <td>Nah I don't think he goes to usf, he lives aro...</td>\n",
       "    </tr>\n",
       "  </tbody>\n",
       "</table>\n",
       "</div>"
      ],
      "text/plain": [
       "   status                                            message\n",
       "0       0  Go until jurong point, crazy.. Available only ...\n",
       "1       0                      Ok lar... Joking wif u oni...\n",
       "2       1  Free entry in 2 a wkly comp to win FA Cup fina...\n",
       "3       0  U dun say so early hor... U c already then say...\n",
       "4       0  Nah I don't think he goes to usf, he lives aro..."
      ]
     },
     "execution_count": 16,
     "metadata": {},
     "output_type": "execute_result"
    }
   ],
   "source": [
    "import pandas as pd\n",
    "import numpy as np\n",
    "from sklearn.model_selection import train_test_split\n",
    "from sklearn.feature_extraction.text import CountVectorizer\n",
    "from sklearn.naive_bayes import MultinomialNB\n",
    "from sklearn.metrics import accuracy_score,precision_score, recall_score, f1_score\n",
    "from sklearn.naive_bayes import GaussianNB\n",
    "import matplotlib.pyplot as plt\n",
    "\n",
    "df = pd.read_csv(\"C:\\\\Users\\\\user\\\\Downloads\\\\SMSSPAMcollection.csv\" , sep = '\\t',\n",
    "                   header=None, \n",
    "                   names=['status', 'message'])\n",
    "df['status'] = df.status.map({'ham':0, 'spam':1})\n",
    "df.head()"
   ]
  },
  {
   "cell_type": "code",
   "execution_count": 17,
   "metadata": {},
   "outputs": [],
   "source": [
    "X_train, X_test, y_train, y_test = train_test_split(df['message'], \n",
    "                                                    df['status'],test_size = .33, \n",
    "                                                    random_state=0)"
   ]
  },
  {
   "cell_type": "code",
   "execution_count": 18,
   "metadata": {},
   "outputs": [],
   "source": [
    "vectorizer = CountVectorizer()\n",
    "data_train = vectorizer.fit_transform(X_train)\n",
    "V = vectorizer.transform(X_test)\n"
   ]
  },
  {
   "cell_type": "code",
   "execution_count": 19,
   "metadata": {
    "scrolled": true
   },
   "outputs": [
    {
     "name": "stdout",
     "output_type": "stream",
     "text": [
      "Accuracy Score: 0.9864056552474171\n",
      "Precision score:  0.9737991266375546\n",
      "Recall score:  0.9214876033057852\n",
      "F1 score:  0.9469214437367304\n"
     ]
    }
   ],
   "source": [
    "MultiNB  = MultinomialNB()\n",
    "MultiNB.fit(data_train, y_train)\n",
    "y_pred = MultiNB.predict(V)\n",
    "print ('Accuracy Score:',format(accuracy_score(y_test , y_pred)))\n",
    "print('Precision score: ', format(precision_score(y_test, y_pred)))\n",
    "print('Recall score: ', format(recall_score(y_test, y_pred)))\n",
    "print('F1 score: ', format(f1_score(y_test, y_pred)))"
   ]
  },
  {
   "cell_type": "markdown",
   "metadata": {},
   "source": [
    "Turns Out...\n",
    "\n",
    "It turns out that our naive bayes model actually does a pretty good job. However, let's take a look at a few additional models to see if we can't improve anyway.\n",
    "\n",
    "Specifically in this notebook, we will take a look at the following techniques:\n",
    "\n",
    "    BaggingClassifier\n",
    "    RandomForestClassifier\n",
    "    AdaBoostClassifier\n",
    "\n",
    "Another really useful guide for ensemble methods can be found in the documentation here.\n",
    "\n",
    "These ensemble methods use a combination of techniques you have seen throughout this lesson:\n",
    "\n",
    "    Bootstrap the data passed through a learner (bagging).\n",
    "    Subset the features used for a learner (combined with bagging signifies the two random components of random forests).\n",
    "    Ensemble learners together in a way that allows those that perform best in certain areas to create the largest impact (boosting).\n",
    "\n",
    "In this notebook, let's get some practice with these methods, which will also help you get comfortable with the process used for performing supervised machine learning in python in general.\n",
    "\n",
    "Since you cleaned and vectorized the text in the previous notebook, this notebook can be focused on the fun part - the machine learning part.\n",
    "This Process Looks Familiar...\n",
    "\n",
    "In general, there is a five step process that can be used each type you want to use a supervised learning method (which you actually used above):\n",
    "\n",
    "    Import the model.\n",
    "    Instantiate the model with the hyperparameters of interest.\n",
    "    Fit the model to the training data.\n",
    "    Predict on the test data.\n",
    "    Score the model by comparing the predictions to the actual values.\n",
    "\n",
    "Follow the steps through this notebook to perform these steps using each of the ensemble methods: BaggingClassifier, RandomForestClassifier, and AdaBoostClassifier."
   ]
  },
  {
   "cell_type": "code",
   "execution_count": 11,
   "metadata": {},
   "outputs": [
    {
     "name": "stdout",
     "output_type": "stream",
     "text": [
      "Accuracy score:  0.9771615008156607\n",
      "Precision score:  0.9464285714285714\n",
      "Recall score:  0.8760330578512396\n",
      "F1 score:  0.9098712446351931\n"
     ]
    }
   ],
   "source": [
    "from sklearn.ensemble import BaggingClassifier\n",
    "clf = BaggingClassifier(random_state = 0,\n",
    "                        n_estimators = 500).fit(data_train, y_train)\n",
    "y_predict = clf.predict(V)\n",
    "print('Accuracy score: ', format(accuracy_score(y_test, y_predict)))\n",
    "print('Precision score: ', format(precision_score(y_test, y_predict)))\n",
    "print('Recall score: ', format(recall_score(y_test, y_predict)))\n",
    "print('F1 score: ', format(f1_score(y_test, y_predict)))"
   ]
  },
  {
   "cell_type": "code",
   "execution_count": 12,
   "metadata": {},
   "outputs": [
    {
     "name": "stdout",
     "output_type": "stream",
     "text": [
      "Accuracy Score: 0.9722675367047309\n",
      "Precision score:  0.9948186528497409\n",
      "Recall score:  0.7933884297520661\n",
      "F1 score:  0.8827586206896552\n"
     ]
    }
   ],
   "source": [
    "from sklearn.ensemble import RandomForestClassifier\n",
    "clf1 = RandomForestClassifier(n_estimators = 20, random_state =0)\n",
    "clf1.fit(data_train , y_train)\n",
    "y_pred2= clf1.predict(V)\n",
    "print('Accuracy Score:' , format(accuracy_score(y_test , y_pred2 )))\n",
    "print('Precision score: ', format(precision_score(y_test, y_pred2)))\n",
    "print('Recall score: ', format(recall_score(y_test, y_pred2)))\n",
    "print('F1 score: ', format(f1_score(y_test, y_pred2)))"
   ]
  },
  {
   "cell_type": "code",
   "execution_count": 13,
   "metadata": {},
   "outputs": [
    {
     "name": "stdout",
     "output_type": "stream",
     "text": [
      "Accuracy Score: 0.9744426318651441\n",
      "Precision score:  0.9333333333333333\n",
      "Recall score:  0.8677685950413223\n",
      "F1 score:  0.899357601713062\n"
     ]
    }
   ],
   "source": [
    "from sklearn.ensemble import AdaBoostClassifier\n",
    "clf2 = AdaBoostClassifier(n_estimators=50, random_state=0)\n",
    "clf2.fit(data_train , y_train)\n",
    "y_pred3 = clf2.predict(V)\n",
    "print('Accuracy Score:' , format(accuracy_score(y_test , y_pred3)))\n",
    "print('Precision score: ', format(precision_score(y_test, y_pred3)))\n",
    "print('Recall score: ', format(recall_score(y_test, y_pred3)))\n",
    "print('F1 score: ', format(f1_score(y_test, y_pred3)))"
   ]
  },
  {
   "cell_type": "code",
   "execution_count": 14,
   "metadata": {},
   "outputs": [
    {
     "name": "stdout",
     "output_type": "stream",
     "text": [
      "Accuracy score:  0.9809679173463839\n",
      "Precision score:  0.9952153110047847\n",
      "Recall score:  0.859504132231405\n",
      "F1 score:  0.9223946784922394\n"
     ]
    }
   ],
   "source": [
    "from sklearn.ensemble import BaggingClassifier\n",
    "from sklearn.svm import SVC\n",
    "\n",
    "clf = BaggingClassifier(random_state = 0,base_estimator=SVC(),\n",
    "                        n_estimators = 500).fit(data_train, y_train)\n",
    "y_predict2 = clf.predict(V)\n",
    "print('Accuracy score: ', format(accuracy_score(y_test, y_predict2)))\n",
    "print('Precision score: ', format(precision_score(y_test, y_predict2)))\n",
    "print('Recall score: ', format(recall_score(y_test, y_predict2)))\n",
    "print('F1 score: ', format(f1_score(y_test, y_predict2)))"
   ]
  },
  {
   "cell_type": "code",
   "execution_count": null,
   "metadata": {},
   "outputs": [],
   "source": []
  }
 ],
 "metadata": {
  "kernelspec": {
   "display_name": "Python 3",
   "language": "python",
   "name": "python3"
  },
  "language_info": {
   "codemirror_mode": {
    "name": "ipython",
    "version": 3
   },
   "file_extension": ".py",
   "mimetype": "text/x-python",
   "name": "python",
   "nbconvert_exporter": "python",
   "pygments_lexer": "ipython3",
   "version": "3.8.5"
  }
 },
 "nbformat": 4,
 "nbformat_minor": 4
}
